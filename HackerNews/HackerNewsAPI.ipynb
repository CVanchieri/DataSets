{
  "nbformat": 4,
  "nbformat_minor": 0,
  "metadata": {
    "colab": {
      "name": "HackerNewsAPI.ipynb",
      "provenance": [],
      "collapsed_sections": []
    },
    "kernelspec": {
      "name": "python3",
      "display_name": "Python 3"
    }
  },
  "cells": [
    {
      "cell_type": "markdown",
      "metadata": {
        "id": "y1VUPEiqew2P",
        "colab_type": "text"
      },
      "source": [
        "# Haxor Package for HackerNews import."
      ]
    },
    {
      "cell_type": "code",
      "metadata": {
        "id": "gTksuURVitrR",
        "colab_type": "code",
        "colab": {}
      },
      "source": [
        "# imports.\n",
        "import requests"
      ],
      "execution_count": 0,
      "outputs": []
    },
    {
      "cell_type": "code",
      "metadata": {
        "id": "ZwC_Qmzqc3wg",
        "colab_type": "code",
        "colab": {
          "base_uri": "https://localhost:8080/",
          "height": 60
        },
        "outputId": "aaae7429-9497-481b-966b-4dab662db95b"
      },
      "source": [
        "# show the latest stories from the HackerNews api.\n",
        "stories = \"https://hacker-news.firebaseio.com/v0/showstories.json\"\n",
        "payload = \"{}\"\n",
        "storiesr = requests.request(\"GET\", stories, data=payload)\n",
        "print(storiesr.text)"
      ],
      "execution_count": 5,
      "outputs": [
        {
          "output_type": "stream",
          "text": [
            "[21867340,21867601,21858226,21855986,21859858,21860082,21864819,21864245,21862865,21851495,21863793,21860741,21867590,21863632,21867464,21863515,21863312,21863261,21861568,21860725,21853220,21857767,21851544,21861414,21849410,21845890,21859379,21857702,21857506,21843382,21850559,21854716,21848428,21850711,21850635,21855474,21847890,21851892,21843279,21843268,21866400,21865867,21865285,21865204,21865152,21865105,21864998,21864113,21863952,21863576]\n"
          ],
          "name": "stdout"
        }
      ]
    },
    {
      "cell_type": "code",
      "metadata": {
        "id": "WnY5u91BgRvu",
        "colab_type": "code",
        "colab": {
          "base_uri": "https://localhost:8080/",
          "height": 282
        },
        "outputId": "244d599d-12cc-4e4f-ec45-bd532d991cdf"
      },
      "source": [
        "# show a story based on the 'id #'.\n",
        "story = \"https://hacker-news.firebaseio.com/v0/item/21867340.json?print=pretty\"\n",
        "payload = \"{}\"\n",
        "storyr = requests.request(\"GET\", story, data=payload)\n",
        "print(storyr.text)"
      ],
      "execution_count": 6,
      "outputs": [
        {
          "output_type": "stream",
          "text": [
            "{\n",
            "  \"by\" : \"borisandcrispin\",\n",
            "  \"descendants\" : 1,\n",
            "  \"id\" : 21867340,\n",
            "  \"kids\" : [ 21868878 ],\n",
            "  \"score\" : 5,\n",
            "  \"time\" : 1577134887,\n",
            "  \"title\" : \"Show HN: Screen Sharing with Code for Teams\",\n",
            "  \"type\" : \"story\",\n",
            "  \"url\" : \"https://gitduck.com/remote-teams\"\n",
            "}\n",
            "\n"
          ],
          "name": "stdout"
        }
      ]
    },
    {
      "cell_type": "code",
      "metadata": {
        "id": "G-zy7OG6hXIz",
        "colab_type": "code",
        "colab": {
          "base_uri": "https://localhost:8080/",
          "height": 236
        },
        "outputId": "91972853-6db9-4a1c-e699-97d79b032e20"
      },
      "source": [
        "# show the comment based on the 'kids #'.\n",
        "comment = \"https://hacker-news.firebaseio.com/v0/item/21868878.json?print=pretty\"\n",
        "payload = \"{}\"\n",
        "commentr = requests.request(\"GET\", comment, data=payload)\n",
        "\n",
        "print(commentr.text)"
      ],
      "execution_count": 3,
      "outputs": [
        {
          "output_type": "stream",
          "text": [
            "{\n",
            "  \"by\" : \"a_band\",\n",
            "  \"id\" : 21868878,\n",
            "  \"parent\" : 21867340,\n",
            "  \"text\" : \"This looks pretty awesome, Boris and Crispin! I know this is a space with a lot of movement right now. How do you compare to a service like Tupal?\",\n",
            "  \"time\" : 1577147796,\n",
            "  \"type\" : \"comment\"\n",
            "}\n",
            "\n"
          ],
          "name": "stdout"
        }
      ]
    }
  ]
}